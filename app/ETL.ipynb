{
 "cells": [
  {
   "cell_type": "markdown",
   "metadata": {},
   "source": [
    "Esta es una demostración de cómo se va a realizar el proceso de ETL en el módulo ETL.py.\n",
    "Por lo tanto, se va a trabajar únicamente con un dataframe a modo de muestra.\n"
   ]
  },
  {
   "cell_type": "code",
   "execution_count": 111,
   "metadata": {},
   "outputs": [],
   "source": [
    "import pandas as pd"
   ]
  },
  {
   "cell_type": "code",
   "execution_count": null,
   "metadata": {},
   "outputs": [],
   "source": [
    "df_amazon = pd.read_csv('/datasets/amazon_prime_titles.csv')"
   ]
  },
  {
   "cell_type": "code",
   "execution_count": null,
   "metadata": {},
   "outputs": [],
   "source": [
    "df_amazon.columns"
   ]
  },
  {
   "cell_type": "markdown",
   "metadata": {},
   "source": [
    "Se definen qué columnas se van a utilizar para las consultas pertinentes.\n",
    "\n",
    "*show_id*: Número de ID para cada serie o película <br>\n",
    "*type*: Define si es serie o película <br>\n",
    "*title*: Título <br>\n",
    "*cast*: Reparto de actores y actrices <br>\n",
    "*release_year*: Fecha de lanzamiento <br>\n",
    "*duration*: Duración de la misma (en minutos o en temporadas) <br>\n",
    "*listed_in*: Categoría/s <br>\n",
    " \n",
    "Ya que no son necesarias para ninguna consulta, se descartan las siguientes columnas:\n",
    "\n",
    "*director*: Nombre del director<br>\n",
    "*country*: País de realización<br>\n",
    "*date_added*: Fecha en que fueron introducidos los datos al dataset<br>\n",
    "*rating*: Clasificación de la película (ATP, +13, etc)<br>\n",
    "*description*: Una breve sinopsis<br>"
   ]
  },
  {
   "cell_type": "code",
   "execution_count": null,
   "metadata": {},
   "outputs": [],
   "source": [
    "#Se guardan las columnas a utilizar en una lista\n",
    "\n",
    "columns = ['type', 'title', 'cast',\n",
    "       'release_year', 'duration', 'listed_in']"
   ]
  },
  {
   "cell_type": "code",
   "execution_count": null,
   "metadata": {},
   "outputs": [],
   "source": [
    "#Se guarda una copia de cada dataset\n",
    "\n",
    "df_amazon_copy = df_amazon.copy()"
   ]
  },
  {
   "cell_type": "code",
   "execution_count": null,
   "metadata": {},
   "outputs": [],
   "source": [
    "#Si las columnas no están en la lista columns, se dropean del dataframe.\n",
    "\n",
    "df_amazon_copy.drop(columns=[col for col in df_amazon_copy if col not in columns], inplace=True)"
   ]
  },
  {
   "cell_type": "code",
   "execution_count": null,
   "metadata": {},
   "outputs": [],
   "source": [
    "#Podemos ver que no es tan grande la cantida de nulos, superando apenas el 10% solo en la columna cast\n",
    "# por lo que no es necesario dropear nulos ni llenarlos (de momento) cruzando datos con las demás plataformas\n",
    "\n",
    "df_amazon_copy.isna().sum()"
   ]
  },
  {
   "cell_type": "code",
   "execution_count": null,
   "metadata": {},
   "outputs": [],
   "source": [
    "#Comprobamos con el output de la tabla anterior si hay duplicados, vemos que no los hay\n",
    "\n",
    "df_amazon_copy.drop_duplicates().info()"
   ]
  },
  {
   "cell_type": "code",
   "execution_count": null,
   "metadata": {},
   "outputs": [],
   "source": [
    "df_amazon_copy['listed_in'].str.contains('Comedy').sum()"
   ]
  },
  {
   "cell_type": "code",
   "execution_count": null,
   "metadata": {},
   "outputs": [],
   "source": [
    "#Vamos a separar duration en cantidad, y luego en la unidad en la que está medido(minutos, temporadas)\n",
    "\n",
    "df_amazon_copy"
   ]
  },
  {
   "cell_type": "code",
   "execution_count": 32,
   "metadata": {},
   "outputs": [
    {
     "ename": "NameError",
     "evalue": "name 'df_amazon_copy' is not defined",
     "output_type": "error",
     "traceback": [
      "\u001b[1;31m---------------------------------------------------------------------------\u001b[0m",
      "\u001b[1;31mNameError\u001b[0m                                 Traceback (most recent call last)",
      "Cell \u001b[1;32mIn [32], line 2\u001b[0m\n\u001b[0;32m      1\u001b[0m \u001b[39m#Observamos que se separa la unidad por un espacio en blanco\u001b[39;00m\n\u001b[1;32m----> 2\u001b[0m df_amazon_copy\u001b[39m.\u001b[39mduration\n",
      "\u001b[1;31mNameError\u001b[0m: name 'df_amazon_copy' is not defined"
     ]
    }
   ],
   "source": [
    "#Observamos que se separa la unidad por un espacio en blanco\n",
    "df_amazon_copy.duration"
   ]
  },
  {
   "cell_type": "code",
   "execution_count": null,
   "metadata": {},
   "outputs": [],
   "source": [
    "# El método str.split divide la columna en dos, separando el contenido, por defecto con un espacio, y con\n",
    "# el parámetro expand=True, se expande en un dataframe con dos columnas.\n",
    "# Luego el método join hace la unión del df original con las columnas.\n",
    "\n",
    "df_amazon_copy = df_amazon_copy.join(df_amazon_copy.duration.str.split(expand=True))\n"
   ]
  },
  {
   "cell_type": "code",
   "execution_count": null,
   "metadata": {},
   "outputs": [],
   "source": [
    "df_amazon_copy.shape"
   ]
  },
  {
   "cell_type": "code",
   "execution_count": null,
   "metadata": {},
   "outputs": [],
   "source": [
    "# Dropeamos la vieja columna duration\n",
    "# Renombramos las dos columnas nuevas, una con duration(cantidad de minutos o temporadas)\n",
    "# y la otra con unit(unidad de tiempo, minutos o temporadas)\n",
    "\n",
    "df_amazon_copy.drop(columns='duration', inplace=True)\n",
    "df_amazon_copy.rename(columns={0:'duration',\n",
    "                                1:'unit'}, inplace=True)\n",
    "df_amazon_copy.sample(5)"
   ]
  },
  {
   "cell_type": "code",
   "execution_count": null,
   "metadata": {},
   "outputs": [],
   "source": [
    "df_amazon_copy.shape"
   ]
  },
  {
   "cell_type": "code",
   "execution_count": null,
   "metadata": {},
   "outputs": [],
   "source": [
    "#Agregamos a qué plataforma pertenece este dataframe\n",
    "\n",
    "df_amazon_copy['platform'] = 'Amazon'"
   ]
  },
  {
   "cell_type": "code",
   "execution_count": null,
   "metadata": {},
   "outputs": [],
   "source": [
    "# Aplicamos el método title para normalizar mayúsculas y minúsculas\n",
    "# Salteamos duration y release_year porque son números y no se puede aplicar este método\n",
    "for n in df_amazon_copy:\n",
    "    if n=='duration' or n=='release_year':\n",
    "        pass\n",
    "    else:\n",
    "       df_amazon_copy[f'{n}'] = df_amazon_copy[f'{n}'].str.title()"
   ]
  },
  {
   "cell_type": "code",
   "execution_count": null,
   "metadata": {},
   "outputs": [],
   "source": [
    "# Asignamos el tipo de dato de duration \n",
    "\n",
    "df_amazon_copy.duration = df_amazon_copy.duration.astype('int64')"
   ]
  },
  {
   "cell_type": "code",
   "execution_count": null,
   "metadata": {},
   "outputs": [],
   "source": [
    "df_amazon_copy.head()"
   ]
  },
  {
   "attachments": {},
   "cell_type": "markdown",
   "metadata": {},
   "source": [
    "Terminamos! Tenemos el df normalizado en todos sus datos. Y únicamente tenemos las columnas necesarias."
   ]
  }
 ],
 "metadata": {
  "kernelspec": {
   "display_name": "Python 3.10.5 64-bit",
   "language": "python",
   "name": "python3"
  },
  "language_info": {
   "codemirror_mode": {
    "name": "ipython",
    "version": 3
   },
   "file_extension": ".py",
   "mimetype": "text/x-python",
   "name": "python",
   "nbconvert_exporter": "python",
   "pygments_lexer": "ipython3",
   "version": "3.10.5"
  },
  "orig_nbformat": 4,
  "vscode": {
   "interpreter": {
    "hash": "aaf9547f3e3ae86318eedba28ed2556756ae8fa85524cf9b0441514d781f03bc"
   }
  }
 },
 "nbformat": 4,
 "nbformat_minor": 2
}
