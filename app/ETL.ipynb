{
 "cells": [
  {
   "cell_type": "markdown",
   "metadata": {},
   "source": [
    "Esta es una demostración de cómo se va a realizar el proceso de ETL en el módulo ETL.py.\n",
    "Por lo tanto, se va a trabajar únicamente con un dataframe a modo de muestra.\n"
   ]
  },
  {
   "cell_type": "code",
   "execution_count": 27,
   "metadata": {},
   "outputs": [],
   "source": [
    "import pandas as pd"
   ]
  },
  {
   "cell_type": "code",
   "execution_count": 28,
   "metadata": {},
   "outputs": [],
   "source": [
    "df_amazon = pd.read_csv('/datasets/amazon_prime_titles.csv')"
   ]
  },
  {
   "cell_type": "code",
   "execution_count": 29,
   "metadata": {},
   "outputs": [
    {
     "data": {
      "text/plain": [
       "Index(['show_id', 'type', 'title', 'director', 'cast', 'country', 'date_added',\n",
       "       'release_year', 'rating', 'duration', 'listed_in', 'description'],\n",
       "      dtype='object')"
      ]
     },
     "execution_count": 29,
     "metadata": {},
     "output_type": "execute_result"
    }
   ],
   "source": [
    "df_amazon.columns"
   ]
  },
  {
   "cell_type": "markdown",
   "metadata": {},
   "source": [
    "Se definen qué columnas se van a utilizar para las consultas pertinentes.\n",
    "\n",
    "*show_id*: Número de ID para cada serie o película <br>\n",
    "*type*: Define si es serie o película <br>\n",
    "*title*: Título <br>\n",
    "*cast*: Reparto de actores y actrices <br>\n",
    "*release_year*: Fecha de lanzamiento <br>\n",
    "*duration*: Duración de la misma (en minutos o en temporadas) <br>\n",
    "*listed_in*: Categoría/s <br>\n",
    " \n",
    "Ya que no son necesarias para ninguna consulta, se descartan las siguientes columnas:\n",
    "\n",
    "*director*: Nombre del director<br>\n",
    "*country*: País de realización<br>\n",
    "*date_added*: Fecha en que fueron introducidos los datos al dataset<br>\n",
    "*rating*: Clasificación de la película (ATP, +13, etc)<br>\n",
    "*description*: Una breve sinopsis<br>"
   ]
  },
  {
   "cell_type": "code",
   "execution_count": 30,
   "metadata": {},
   "outputs": [],
   "source": [
    "#Se guardan las columnas a utilizar en una lista\n",
    "\n",
    "columns = ['show_id', 'type', 'title', 'cast',\n",
    "       'release_year', 'duration', 'listed_in']"
   ]
  },
  {
   "cell_type": "code",
   "execution_count": 31,
   "metadata": {},
   "outputs": [],
   "source": [
    "#Se guarda una copia de cada dataset\n",
    "\n",
    "df_amazon_copy = df_amazon.copy()"
   ]
  },
  {
   "cell_type": "code",
   "execution_count": 32,
   "metadata": {},
   "outputs": [],
   "source": [
    "#Si las columnas no están en la lista columns, se dropean del dataframe.\n",
    "\n",
    "df_amazon_copy.drop(columns=[col for col in df_amazon_copy if col not in columns], inplace=True)"
   ]
  },
  {
   "cell_type": "code",
   "execution_count": 33,
   "metadata": {},
   "outputs": [
    {
     "data": {
      "text/plain": [
       "show_id            0\n",
       "type               0\n",
       "title              0\n",
       "cast            1233\n",
       "release_year       0\n",
       "duration           0\n",
       "listed_in          0\n",
       "dtype: int64"
      ]
     },
     "execution_count": 33,
     "metadata": {},
     "output_type": "execute_result"
    }
   ],
   "source": [
    "#Podemos ver que no es tan grande la cantida de nulos, superando apenas el 10% solo en la columna cast\n",
    "# por lo que no es necesario dropear nulos ni llenarlos (de momento) cruzando datos con las demás plataformas\n",
    "\n",
    "df_amazon_copy.isna().sum()"
   ]
  },
  {
   "cell_type": "code",
   "execution_count": 34,
   "metadata": {},
   "outputs": [
    {
     "name": "stdout",
     "output_type": "stream",
     "text": [
      "<class 'pandas.core.frame.DataFrame'>\n",
      "Int64Index: 9668 entries, 0 to 9667\n",
      "Data columns (total 7 columns):\n",
      " #   Column        Non-Null Count  Dtype \n",
      "---  ------        --------------  ----- \n",
      " 0   show_id       9668 non-null   object\n",
      " 1   type          9668 non-null   object\n",
      " 2   title         9668 non-null   object\n",
      " 3   cast          8435 non-null   object\n",
      " 4   release_year  9668 non-null   int64 \n",
      " 5   duration      9668 non-null   object\n",
      " 6   listed_in     9668 non-null   object\n",
      "dtypes: int64(1), object(6)\n",
      "memory usage: 604.2+ KB\n"
     ]
    }
   ],
   "source": [
    "#Comprobamos con el output de la tabla anterior si hay duplicados, vemos que no los hay\n",
    "\n",
    "df_amazon_copy.drop_duplicates().info()"
   ]
  },
  {
   "cell_type": "code",
   "execution_count": 35,
   "metadata": {},
   "outputs": [
    {
     "data": {
      "text/plain": [
       "2099"
      ]
     },
     "execution_count": 35,
     "metadata": {},
     "output_type": "execute_result"
    }
   ],
   "source": [
    "df_amazon_copy['listed_in'].str.contains('Comedy').sum()"
   ]
  },
  {
   "cell_type": "code",
   "execution_count": 36,
   "metadata": {},
   "outputs": [
    {
     "data": {
      "text/html": [
       "<div>\n",
       "<style scoped>\n",
       "    .dataframe tbody tr th:only-of-type {\n",
       "        vertical-align: middle;\n",
       "    }\n",
       "\n",
       "    .dataframe tbody tr th {\n",
       "        vertical-align: top;\n",
       "    }\n",
       "\n",
       "    .dataframe thead th {\n",
       "        text-align: right;\n",
       "    }\n",
       "</style>\n",
       "<table border=\"1\" class=\"dataframe\">\n",
       "  <thead>\n",
       "    <tr style=\"text-align: right;\">\n",
       "      <th></th>\n",
       "      <th>show_id</th>\n",
       "      <th>type</th>\n",
       "      <th>title</th>\n",
       "      <th>cast</th>\n",
       "      <th>release_year</th>\n",
       "      <th>duration</th>\n",
       "      <th>listed_in</th>\n",
       "    </tr>\n",
       "  </thead>\n",
       "  <tbody>\n",
       "    <tr>\n",
       "      <th>0</th>\n",
       "      <td>s1</td>\n",
       "      <td>Movie</td>\n",
       "      <td>The Grand Seduction</td>\n",
       "      <td>Brendan Gleeson, Taylor Kitsch, Gordon Pinsent</td>\n",
       "      <td>2014</td>\n",
       "      <td>113 min</td>\n",
       "      <td>Comedy, Drama</td>\n",
       "    </tr>\n",
       "    <tr>\n",
       "      <th>1</th>\n",
       "      <td>s2</td>\n",
       "      <td>Movie</td>\n",
       "      <td>Take Care Good Night</td>\n",
       "      <td>Mahesh Manjrekar, Abhay Mahajan, Sachin Khedekar</td>\n",
       "      <td>2018</td>\n",
       "      <td>110 min</td>\n",
       "      <td>Drama, International</td>\n",
       "    </tr>\n",
       "    <tr>\n",
       "      <th>2</th>\n",
       "      <td>s3</td>\n",
       "      <td>Movie</td>\n",
       "      <td>Secrets of Deception</td>\n",
       "      <td>Tom Sizemore, Lorenzo Lamas, Robert LaSardo, R...</td>\n",
       "      <td>2017</td>\n",
       "      <td>74 min</td>\n",
       "      <td>Action, Drama, Suspense</td>\n",
       "    </tr>\n",
       "    <tr>\n",
       "      <th>3</th>\n",
       "      <td>s4</td>\n",
       "      <td>Movie</td>\n",
       "      <td>Pink: Staying True</td>\n",
       "      <td>Interviews with: Pink, Adele, Beyoncé, Britney...</td>\n",
       "      <td>2014</td>\n",
       "      <td>69 min</td>\n",
       "      <td>Documentary</td>\n",
       "    </tr>\n",
       "    <tr>\n",
       "      <th>4</th>\n",
       "      <td>s5</td>\n",
       "      <td>Movie</td>\n",
       "      <td>Monster Maker</td>\n",
       "      <td>Harry Dean Stanton, Kieran O'Brien, George Cos...</td>\n",
       "      <td>1989</td>\n",
       "      <td>45 min</td>\n",
       "      <td>Drama, Fantasy</td>\n",
       "    </tr>\n",
       "    <tr>\n",
       "      <th>...</th>\n",
       "      <td>...</td>\n",
       "      <td>...</td>\n",
       "      <td>...</td>\n",
       "      <td>...</td>\n",
       "      <td>...</td>\n",
       "      <td>...</td>\n",
       "      <td>...</td>\n",
       "    </tr>\n",
       "    <tr>\n",
       "      <th>9663</th>\n",
       "      <td>s9664</td>\n",
       "      <td>Movie</td>\n",
       "      <td>Pride Of The Bowery</td>\n",
       "      <td>Leo Gorcey, Bobby Jordan</td>\n",
       "      <td>1940</td>\n",
       "      <td>60 min</td>\n",
       "      <td>Comedy</td>\n",
       "    </tr>\n",
       "    <tr>\n",
       "      <th>9664</th>\n",
       "      <td>s9665</td>\n",
       "      <td>TV Show</td>\n",
       "      <td>Planet Patrol</td>\n",
       "      <td>DICK VOSBURGH, RONNIE STEVENS, LIBBY MORRIS, M...</td>\n",
       "      <td>2018</td>\n",
       "      <td>4 Seasons</td>\n",
       "      <td>TV Shows</td>\n",
       "    </tr>\n",
       "    <tr>\n",
       "      <th>9665</th>\n",
       "      <td>s9666</td>\n",
       "      <td>Movie</td>\n",
       "      <td>Outpost</td>\n",
       "      <td>Ray Stevenson, Julian Wadham, Richard Brake, M...</td>\n",
       "      <td>2008</td>\n",
       "      <td>90 min</td>\n",
       "      <td>Action</td>\n",
       "    </tr>\n",
       "    <tr>\n",
       "      <th>9666</th>\n",
       "      <td>s9667</td>\n",
       "      <td>TV Show</td>\n",
       "      <td>Maradona: Blessed Dream</td>\n",
       "      <td>Esteban Recagno, Ezequiel Stremiz, Luciano Vit...</td>\n",
       "      <td>2021</td>\n",
       "      <td>1 Season</td>\n",
       "      <td>Drama, Sports</td>\n",
       "    </tr>\n",
       "    <tr>\n",
       "      <th>9667</th>\n",
       "      <td>s9668</td>\n",
       "      <td>Movie</td>\n",
       "      <td>Harry Brown</td>\n",
       "      <td>Michael Caine, Emily Mortimer, Joseph Gilgun, ...</td>\n",
       "      <td>2010</td>\n",
       "      <td>103 min</td>\n",
       "      <td>Action, Drama, Suspense</td>\n",
       "    </tr>\n",
       "  </tbody>\n",
       "</table>\n",
       "<p>9668 rows × 7 columns</p>\n",
       "</div>"
      ],
      "text/plain": [
       "     show_id     type                    title  \\\n",
       "0         s1    Movie      The Grand Seduction   \n",
       "1         s2    Movie     Take Care Good Night   \n",
       "2         s3    Movie     Secrets of Deception   \n",
       "3         s4    Movie       Pink: Staying True   \n",
       "4         s5    Movie            Monster Maker   \n",
       "...      ...      ...                      ...   \n",
       "9663   s9664    Movie      Pride Of The Bowery   \n",
       "9664   s9665  TV Show            Planet Patrol   \n",
       "9665   s9666    Movie                  Outpost   \n",
       "9666   s9667  TV Show  Maradona: Blessed Dream   \n",
       "9667   s9668    Movie              Harry Brown   \n",
       "\n",
       "                                                   cast  release_year  \\\n",
       "0        Brendan Gleeson, Taylor Kitsch, Gordon Pinsent          2014   \n",
       "1      Mahesh Manjrekar, Abhay Mahajan, Sachin Khedekar          2018   \n",
       "2     Tom Sizemore, Lorenzo Lamas, Robert LaSardo, R...          2017   \n",
       "3     Interviews with: Pink, Adele, Beyoncé, Britney...          2014   \n",
       "4     Harry Dean Stanton, Kieran O'Brien, George Cos...          1989   \n",
       "...                                                 ...           ...   \n",
       "9663                           Leo Gorcey, Bobby Jordan          1940   \n",
       "9664  DICK VOSBURGH, RONNIE STEVENS, LIBBY MORRIS, M...          2018   \n",
       "9665  Ray Stevenson, Julian Wadham, Richard Brake, M...          2008   \n",
       "9666  Esteban Recagno, Ezequiel Stremiz, Luciano Vit...          2021   \n",
       "9667  Michael Caine, Emily Mortimer, Joseph Gilgun, ...          2010   \n",
       "\n",
       "       duration                listed_in  \n",
       "0       113 min            Comedy, Drama  \n",
       "1       110 min     Drama, International  \n",
       "2        74 min  Action, Drama, Suspense  \n",
       "3        69 min              Documentary  \n",
       "4        45 min           Drama, Fantasy  \n",
       "...         ...                      ...  \n",
       "9663     60 min                   Comedy  \n",
       "9664  4 Seasons                 TV Shows  \n",
       "9665     90 min                   Action  \n",
       "9666   1 Season            Drama, Sports  \n",
       "9667    103 min  Action, Drama, Suspense  \n",
       "\n",
       "[9668 rows x 7 columns]"
      ]
     },
     "execution_count": 36,
     "metadata": {},
     "output_type": "execute_result"
    }
   ],
   "source": [
    "#Vamos a separar duration en cantidad, y luego en la unidad en la que está medido(minutos, temporadas)\n",
    "\n",
    "df_amazon_copy"
   ]
  },
  {
   "cell_type": "code",
   "execution_count": 37,
   "metadata": {},
   "outputs": [
    {
     "data": {
      "text/plain": [
       "0         113 min\n",
       "1         110 min\n",
       "2          74 min\n",
       "3          69 min\n",
       "4          45 min\n",
       "          ...    \n",
       "9663       60 min\n",
       "9664    4 Seasons\n",
       "9665       90 min\n",
       "9666     1 Season\n",
       "9667      103 min\n",
       "Name: duration, Length: 9668, dtype: object"
      ]
     },
     "execution_count": 37,
     "metadata": {},
     "output_type": "execute_result"
    }
   ],
   "source": [
    "#Observamos que se separa la unidad por un espacio en blanco\n",
    "df_amazon_copy.duration"
   ]
  },
  {
   "cell_type": "code",
   "execution_count": 38,
   "metadata": {},
   "outputs": [],
   "source": [
    "# El método str.split divide la columna en dos, separando el contenido, por defecto con un espacio, y con\n",
    "# el parámetro expand=True, se expande en un dataframe con dos columnas.\n",
    "# Luego el método join hace la unión del df original con las columnas.\n",
    "\n",
    "df_amazon_copy = df_amazon_copy.join(df_amazon_copy.duration.str.split(expand=True))"
   ]
  },
  {
   "cell_type": "code",
   "execution_count": 39,
   "metadata": {},
   "outputs": [
    {
     "data": {
      "text/html": [
       "<div>\n",
       "<style scoped>\n",
       "    .dataframe tbody tr th:only-of-type {\n",
       "        vertical-align: middle;\n",
       "    }\n",
       "\n",
       "    .dataframe tbody tr th {\n",
       "        vertical-align: top;\n",
       "    }\n",
       "\n",
       "    .dataframe thead th {\n",
       "        text-align: right;\n",
       "    }\n",
       "</style>\n",
       "<table border=\"1\" class=\"dataframe\">\n",
       "  <thead>\n",
       "    <tr style=\"text-align: right;\">\n",
       "      <th></th>\n",
       "      <th>show_id</th>\n",
       "      <th>type</th>\n",
       "      <th>title</th>\n",
       "      <th>cast</th>\n",
       "      <th>release_year</th>\n",
       "      <th>listed_in</th>\n",
       "      <th>duration</th>\n",
       "      <th>unit</th>\n",
       "    </tr>\n",
       "  </thead>\n",
       "  <tbody>\n",
       "    <tr>\n",
       "      <th>440</th>\n",
       "      <td>s441</td>\n",
       "      <td>Movie</td>\n",
       "      <td>The Special</td>\n",
       "      <td>Davy Raphaely, Sarah French, Davi Sheridan, Su...</td>\n",
       "      <td>2020</td>\n",
       "      <td>Drama, Horror, Suspense</td>\n",
       "      <td>94</td>\n",
       "      <td>min</td>\n",
       "    </tr>\n",
       "    <tr>\n",
       "      <th>1000</th>\n",
       "      <td>s1001</td>\n",
       "      <td>Movie</td>\n",
       "      <td>Simple Gifts: The Chamber Music Society at Sha...</td>\n",
       "      <td>NaN</td>\n",
       "      <td>2016</td>\n",
       "      <td>Documentary</td>\n",
       "      <td>84</td>\n",
       "      <td>min</td>\n",
       "    </tr>\n",
       "    <tr>\n",
       "      <th>57</th>\n",
       "      <td>s58</td>\n",
       "      <td>TV Show</td>\n",
       "      <td>Xploration Earth 2050</td>\n",
       "      <td>Chuck Pell</td>\n",
       "      <td>2017</td>\n",
       "      <td>Documentary, Science Fiction</td>\n",
       "      <td>2</td>\n",
       "      <td>Seasons</td>\n",
       "    </tr>\n",
       "    <tr>\n",
       "      <th>2233</th>\n",
       "      <td>s2234</td>\n",
       "      <td>TV Show</td>\n",
       "      <td>Heavenly Sword and Dragon Slaying Sabre</td>\n",
       "      <td>Zeng Shunxi, Chen Yuqi</td>\n",
       "      <td>2019</td>\n",
       "      <td>Action, Adventure, Drama</td>\n",
       "      <td>1</td>\n",
       "      <td>Season</td>\n",
       "    </tr>\n",
       "    <tr>\n",
       "      <th>1263</th>\n",
       "      <td>s1264</td>\n",
       "      <td>TV Show</td>\n",
       "      <td>PRIME JAPAN (4K UHD)</td>\n",
       "      <td>Jonathan Sherr</td>\n",
       "      <td>2017</td>\n",
       "      <td>TV Shows</td>\n",
       "      <td>1</td>\n",
       "      <td>Season</td>\n",
       "    </tr>\n",
       "  </tbody>\n",
       "</table>\n",
       "</div>"
      ],
      "text/plain": [
       "     show_id     type                                              title  \\\n",
       "440     s441    Movie                                        The Special   \n",
       "1000   s1001    Movie  Simple Gifts: The Chamber Music Society at Sha...   \n",
       "57       s58  TV Show                              Xploration Earth 2050   \n",
       "2233   s2234  TV Show            Heavenly Sword and Dragon Slaying Sabre   \n",
       "1263   s1264  TV Show                               PRIME JAPAN (4K UHD)   \n",
       "\n",
       "                                                   cast  release_year  \\\n",
       "440   Davy Raphaely, Sarah French, Davi Sheridan, Su...          2020   \n",
       "1000                                                NaN          2016   \n",
       "57                                           Chuck Pell          2017   \n",
       "2233                             Zeng Shunxi, Chen Yuqi          2019   \n",
       "1263                                     Jonathan Sherr          2017   \n",
       "\n",
       "                         listed_in duration     unit  \n",
       "440        Drama, Horror, Suspense       94      min  \n",
       "1000                   Documentary       84      min  \n",
       "57    Documentary, Science Fiction        2  Seasons  \n",
       "2233      Action, Adventure, Drama        1   Season  \n",
       "1263                      TV Shows        1   Season  "
      ]
     },
     "execution_count": 39,
     "metadata": {},
     "output_type": "execute_result"
    }
   ],
   "source": [
    "# Dropeamos la vieja columna duration\n",
    "# Renombramos las dos columnas nuevas, una con duration(cantidad de minutos o temporadas)\n",
    "# y la otra con unit(unidad de tiempo, minutos o temporadas)\n",
    "\n",
    "df_amazon_copy.drop(columns='duration', inplace=True)\n",
    "df_amazon_copy.rename(columns={0:'duration',\n",
    "                                1:'unit'}, inplace=True)\n",
    "df_amazon_copy.sample(5)"
   ]
  },
  {
   "cell_type": "code",
   "execution_count": 40,
   "metadata": {},
   "outputs": [],
   "source": [
    "#Agregamos a qué plataforma pertenece este dataframe\n",
    "\n",
    "df_amazon_copy['platform'] = 'Amazon'"
   ]
  },
  {
   "cell_type": "code",
   "execution_count": 41,
   "metadata": {},
   "outputs": [],
   "source": [
    "# Y por último aplicamos el método title para normalizar mayúsculas y minúsculas\n",
    "# Salteamos duration y release_year porque son números y no se puede aplicar este método\n",
    "for n in df_amazon_copy:\n",
    "    if n=='duration' or n=='release_year':\n",
    "        pass\n",
    "    else:\n",
    "       df_amazon_copy[f'{n}'] = df_amazon_copy[f'{n}'].str.title()"
   ]
  },
  {
   "cell_type": "code",
   "execution_count": 42,
   "metadata": {},
   "outputs": [],
   "source": [
    "# Asignamos el tipo de dato de duration \n",
    "\n",
    "df_amazon_copy.duration = df_amazon_copy.duration.astype('int64')"
   ]
  },
  {
   "cell_type": "code",
   "execution_count": 43,
   "metadata": {},
   "outputs": [
    {
     "data": {
      "text/html": [
       "<div>\n",
       "<style scoped>\n",
       "    .dataframe tbody tr th:only-of-type {\n",
       "        vertical-align: middle;\n",
       "    }\n",
       "\n",
       "    .dataframe tbody tr th {\n",
       "        vertical-align: top;\n",
       "    }\n",
       "\n",
       "    .dataframe thead th {\n",
       "        text-align: right;\n",
       "    }\n",
       "</style>\n",
       "<table border=\"1\" class=\"dataframe\">\n",
       "  <thead>\n",
       "    <tr style=\"text-align: right;\">\n",
       "      <th></th>\n",
       "      <th>show_id</th>\n",
       "      <th>type</th>\n",
       "      <th>title</th>\n",
       "      <th>cast</th>\n",
       "      <th>release_year</th>\n",
       "      <th>listed_in</th>\n",
       "      <th>duration</th>\n",
       "      <th>unit</th>\n",
       "      <th>platform</th>\n",
       "    </tr>\n",
       "  </thead>\n",
       "  <tbody>\n",
       "    <tr>\n",
       "      <th>0</th>\n",
       "      <td>S1</td>\n",
       "      <td>Movie</td>\n",
       "      <td>The Grand Seduction</td>\n",
       "      <td>Brendan Gleeson, Taylor Kitsch, Gordon Pinsent</td>\n",
       "      <td>2014</td>\n",
       "      <td>Comedy, Drama</td>\n",
       "      <td>113</td>\n",
       "      <td>Min</td>\n",
       "      <td>Amazon</td>\n",
       "    </tr>\n",
       "    <tr>\n",
       "      <th>1</th>\n",
       "      <td>S2</td>\n",
       "      <td>Movie</td>\n",
       "      <td>Take Care Good Night</td>\n",
       "      <td>Mahesh Manjrekar, Abhay Mahajan, Sachin Khedekar</td>\n",
       "      <td>2018</td>\n",
       "      <td>Drama, International</td>\n",
       "      <td>110</td>\n",
       "      <td>Min</td>\n",
       "      <td>Amazon</td>\n",
       "    </tr>\n",
       "    <tr>\n",
       "      <th>2</th>\n",
       "      <td>S3</td>\n",
       "      <td>Movie</td>\n",
       "      <td>Secrets Of Deception</td>\n",
       "      <td>Tom Sizemore, Lorenzo Lamas, Robert Lasardo, R...</td>\n",
       "      <td>2017</td>\n",
       "      <td>Action, Drama, Suspense</td>\n",
       "      <td>74</td>\n",
       "      <td>Min</td>\n",
       "      <td>Amazon</td>\n",
       "    </tr>\n",
       "    <tr>\n",
       "      <th>3</th>\n",
       "      <td>S4</td>\n",
       "      <td>Movie</td>\n",
       "      <td>Pink: Staying True</td>\n",
       "      <td>Interviews With: Pink, Adele, Beyoncé, Britney...</td>\n",
       "      <td>2014</td>\n",
       "      <td>Documentary</td>\n",
       "      <td>69</td>\n",
       "      <td>Min</td>\n",
       "      <td>Amazon</td>\n",
       "    </tr>\n",
       "    <tr>\n",
       "      <th>4</th>\n",
       "      <td>S5</td>\n",
       "      <td>Movie</td>\n",
       "      <td>Monster Maker</td>\n",
       "      <td>Harry Dean Stanton, Kieran O'Brien, George Cos...</td>\n",
       "      <td>1989</td>\n",
       "      <td>Drama, Fantasy</td>\n",
       "      <td>45</td>\n",
       "      <td>Min</td>\n",
       "      <td>Amazon</td>\n",
       "    </tr>\n",
       "  </tbody>\n",
       "</table>\n",
       "</div>"
      ],
      "text/plain": [
       "  show_id   type                 title  \\\n",
       "0      S1  Movie   The Grand Seduction   \n",
       "1      S2  Movie  Take Care Good Night   \n",
       "2      S3  Movie  Secrets Of Deception   \n",
       "3      S4  Movie    Pink: Staying True   \n",
       "4      S5  Movie         Monster Maker   \n",
       "\n",
       "                                                cast  release_year  \\\n",
       "0     Brendan Gleeson, Taylor Kitsch, Gordon Pinsent          2014   \n",
       "1   Mahesh Manjrekar, Abhay Mahajan, Sachin Khedekar          2018   \n",
       "2  Tom Sizemore, Lorenzo Lamas, Robert Lasardo, R...          2017   \n",
       "3  Interviews With: Pink, Adele, Beyoncé, Britney...          2014   \n",
       "4  Harry Dean Stanton, Kieran O'Brien, George Cos...          1989   \n",
       "\n",
       "                 listed_in  duration unit platform  \n",
       "0            Comedy, Drama       113  Min   Amazon  \n",
       "1     Drama, International       110  Min   Amazon  \n",
       "2  Action, Drama, Suspense        74  Min   Amazon  \n",
       "3              Documentary        69  Min   Amazon  \n",
       "4           Drama, Fantasy        45  Min   Amazon  "
      ]
     },
     "execution_count": 43,
     "metadata": {},
     "output_type": "execute_result"
    }
   ],
   "source": [
    "df_amazon_copy.head()"
   ]
  },
  {
   "cell_type": "markdown",
   "metadata": {},
   "source": [
    "Terminamos! Tenemos el df normalizado en todos sus datos. Y únicamente tenemos las columnas necesarias.\n",
    "\n",
    "Luego, cuando juntemos los 4 DF, vamos a cambiar show_id para que no se repitan y lo podamos utilizar como id único.\n"
   ]
  }
 ],
 "metadata": {
  "kernelspec": {
   "display_name": "Python 3.10.5 64-bit",
   "language": "python",
   "name": "python3"
  },
  "language_info": {
   "codemirror_mode": {
    "name": "ipython",
    "version": 3
   },
   "file_extension": ".py",
   "mimetype": "text/x-python",
   "name": "python",
   "nbconvert_exporter": "python",
   "pygments_lexer": "ipython3",
   "version": "3.10.5"
  },
  "orig_nbformat": 4,
  "vscode": {
   "interpreter": {
    "hash": "aaf9547f3e3ae86318eedba28ed2556756ae8fa85524cf9b0441514d781f03bc"
   }
  }
 },
 "nbformat": 4,
 "nbformat_minor": 2
}
